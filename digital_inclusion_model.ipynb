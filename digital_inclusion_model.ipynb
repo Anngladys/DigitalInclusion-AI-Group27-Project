{
 "cells": [
  {
   "cell_type": "markdown",
   "id": "043adcc4",
   "metadata": {},
   "source": [
    "# AI for Digital Inclusion: Bridging the Gender Divide (SDG 5)\n",
    "\n",
    "## Project Overview\n",
    "This project aims to demonstrate how AI, specifically machine learning, can be used to promote digital inclusion for women in remote areas. We focus on creating an adaptive learning system that personalizes digital skills training, addressing the digital gender divide.\n",
    "\n",
    "## UN Sustainable Development Goal (SDG)\n",
    "**SDG 5: Gender Equality**\n",
    "Specifically, this project targets **SDG Target 5.b**: \"Enhance the use of enabling technology, in particular information and communications technology, to promote the empowerment of women.\"\n",
    "\n",
    "## The Problem\n",
    "Women in remote areas often face significant barriers to acquiring digital skills, including limited access to infrastructure, devices, and suitable training materials. Traditional training methods may not cater to diverse learning needs, literacy levels, or cultural contexts, perpetuating the digital gender divide.\n",
    "\n",
    "## The Solution\n",
    "We propose an AI-powered adaptive learning platform that provides personalized digital skills training. This system will leverage supervised machine learning to recommend tailored learning paths based on individual learner profiles and progress, and conceptually use NLP for accessible content and chatbot support."
   ]
  },
  {
   "cell_type": "code",
   "execution_count": 22,
   "id": "c9516aa1",
   "metadata": {},
   "outputs": [
    {
     "name": "stdout",
     "output_type": "stream",
     "text": [
      "Libraries imported successfully!\n"
     ]
    }
   ],
   "source": [
    "import pandas as pd\n",
    "import numpy as np\n",
    "from sklearn.model_selection import train_test_split\n",
    "from sklearn.tree import DecisionTreeClassifier # A simple, interpretable model\n",
    "from sklearn.metrics import accuracy_score, classification_report\n",
    "import matplotlib.pyplot as plt\n",
    "import seaborn as sns\n",
    "\n",
    "print(\"Libraries imported successfully!\")"
   ]
  },
  {
   "cell_type": "code",
   "execution_count": 23,
   "id": "2966bab8",
   "metadata": {},
   "outputs": [
    {
     "name": "stdout",
     "output_type": "stream",
     "text": [
      "Simulated Dataset Head:\n",
      "   initial_literacy  smartphone_access  internet_connectivity  \\\n",
      "0                 6                  1                      1   \n",
      "1                 3                  1                      1   \n",
      "2                10                  1                      2   \n",
      "3                 7                  1                      2   \n",
      "4                 4                  1                      2   \n",
      "\n",
      "   learning_preference  age_group  recommended_path  \n",
      "0                    2          1                 1  \n",
      "1                    0          1                 2  \n",
      "2                    0          2                 2  \n",
      "3                    0          2                 2  \n",
      "4                    0          1                 1  \n",
      "\n",
      "Dataset Info:\n",
      "<class 'pandas.core.frame.DataFrame'>\n",
      "RangeIndex: 1000 entries, 0 to 999\n",
      "Data columns (total 6 columns):\n",
      " #   Column                 Non-Null Count  Dtype\n",
      "---  ------                 --------------  -----\n",
      " 0   initial_literacy       1000 non-null   int32\n",
      " 1   smartphone_access      1000 non-null   int64\n",
      " 2   internet_connectivity  1000 non-null   int64\n",
      " 3   learning_preference    1000 non-null   int64\n",
      " 4   age_group              1000 non-null   int64\n",
      " 5   recommended_path       1000 non-null   int64\n",
      "dtypes: int32(1), int64(5)\n",
      "memory usage: 43.1 KB\n",
      "\n",
      "Value Counts for Recommended Path:\n",
      "recommended_path\n",
      "2    738\n",
      "1    193\n",
      "0     69\n",
      "Name: count, dtype: int64\n"
     ]
    }
   ],
   "source": [
    "# Set a seed for reproducibility\n",
    "np.random.seed(42)\n",
    "\n",
    "# Number of simulated learners\n",
    "num_learners = 1000\n",
    "\n",
    "# Simulate features:\n",
    "# Initial Digital Literacy (0-10, 0=low, 10=high)\n",
    "initial_literacy = np.random.randint(0, 11, num_learners)\n",
    "\n",
    "# Access to Smartphone (0=No, 1=Yes)\n",
    "smartphone_access = np.random.choice([0, 1], num_learners, p=[0.3, 0.7]) # 70% have smartphone\n",
    "\n",
    "# Internet Connectivity (0=Poor, 1=Moderate, 2=Good)\n",
    "internet_connectivity = np.random.choice([0, 1, 2], num_learners, p=[0.2, 0.5, 0.3])\n",
    "\n",
    "# Learning Preference (0=Visual, 1=Text-based, 2=Interactive)\n",
    "learning_preference = np.random.choice([0, 1, 2], num_learners, p=[0.4, 0.3, 0.3])\n",
    "\n",
    "# Age Group (0=<25, 1=25-45, 2=>45)\n",
    "age_group = np.random.choice([0, 1, 2], num_learners, p=[0.3, 0.5, 0.2])\n",
    "\n",
    "# Target Variable: Recommended Learning Path (0=Basic Literacy, 1=Productivity Tools, 2=Digital Marketing Basics)\n",
    "# This is where our 'supervised' part comes in. We'll simulate a 'ground truth' based on features.\n",
    "# A simpler learner might get 'Basic Literacy', an intermediate 'Productivity Tools', etc.\n",
    "recommended_path = []\n",
    "for i in range(num_learners):\n",
    "    if initial_literacy[i] < 4 and internet_connectivity[i] < 1: # Low literacy AND poor internet -> Basic Literacy\n",
    "        recommended_path.append(0) # Basic Literacy\n",
    "    elif initial_literacy[i] >= 4 and initial_literacy[i] < 7 and smartphone_access[i] == 1: # Moderate literacy & has smartphone -> Productivity Tools\n",
    "        recommended_path.append(1) # Productivity Tools\n",
    "    else: # Higher literacy or other conditions -> Digital Marketing Basics\n",
    "        recommended_path.append(2) # Digital Marketing Basics (assuming higher skill)\n",
    "\n",
    "# Convert to DataFrame\n",
    "data = pd.DataFrame({\n",
    "    'initial_literacy': initial_literacy,\n",
    "    'smartphone_access': smartphone_access,\n",
    "    'internet_connectivity': internet_connectivity,\n",
    "    'learning_preference': learning_preference,\n",
    "    'age_group': age_group,\n",
    "    'recommended_path': recommended_path\n",
    "})\n",
    "\n",
    "print(\"Simulated Dataset Head:\")\n",
    "print(data.head())\n",
    "print(\"\\nDataset Info:\")\n",
    "data.info()\n",
    "print(\"\\nValue Counts for Recommended Path:\")\n",
    "print(data['recommended_path'].value_counts())"
   ]
  },
  {
   "cell_type": "code",
   "execution_count": 24,
   "id": "d6e58ecb",
   "metadata": {},
   "outputs": [
    {
     "name": "stdout",
     "output_type": "stream",
     "text": [
      "X_train shape: (800, 5)\n",
      "X_test shape: (200, 5)\n",
      "y_train value counts:\n",
      "recommended_path\n",
      "2    590\n",
      "1    155\n",
      "0     55\n",
      "Name: count, dtype: int64\n",
      "y_test value counts:\n",
      "recommended_path\n",
      "2    148\n",
      "1     38\n",
      "0     14\n",
      "Name: count, dtype: int64\n"
     ]
    }
   ],
   "source": [
    "# Define features (X) and target (y)\n",
    "X = data[['initial_literacy', 'smartphone_access', 'internet_connectivity', 'learning_preference', 'age_group']]\n",
    "y = data['recommended_path']\n",
    "\n",
    "# Split data into training and testing sets\n",
    "# We'll use 80% for training and 20% for testing\n",
    "# stratify=y ensures that the proportions of the different learning paths are similar in both train and test sets\n",
    "X_train, X_test, y_train, y_test = train_test_split(X, y, test_size=0.2, random_state=42, stratify=y)\n",
    "\n",
    "print(f\"X_train shape: {X_train.shape}\")\n",
    "print(f\"X_test shape: {X_test.shape}\")\n",
    "print(f\"y_train value counts:\\n{y_train.value_counts()}\")\n",
    "print(f\"y_test value counts:\\n{y_test.value_counts()}\")"
   ]
  },
  {
   "cell_type": "code",
   "execution_count": 25,
   "id": "3c1c8cda",
   "metadata": {},
   "outputs": [
    {
     "name": "stdout",
     "output_type": "stream",
     "text": [
      "Training the model...\n",
      "Model training complete!\n"
     ]
    }
   ],
   "source": [
    "# Initialize the Decision Tree Classifier model\n",
    "model = DecisionTreeClassifier(random_state=42)\n",
    "\n",
    "# Train the model using the training data\n",
    "print(\"Training the model...\")\n",
    "model.fit(X_train, y_train)\n",
    "print(\"Model training complete!\")"
   ]
  },
  {
   "cell_type": "markdown",
   "id": "b263761d",
   "metadata": {},
   "source": [
    "## Ethical Reflection\n",
    "\n",
    "### Bias in Data\n",
    "Our simulated dataset aims to represent various learner characteristics but is a simplification of real-world complexities. In a real-world scenario, bias could arise from:\n",
    "* **Sampling Bias:** If data is collected only from certain regions or demographics, the model might not generalize well to truly remote or marginalized populations.\n",
    "* **Historical Bias:** If past training program data reflects existing inequalities (e.g., fewer resources for women in certain areas), the model could inadvertently perpetuate these disparities by recommending less advanced paths to certain groups.\n",
    "* **Feature Bias:** Features might not capture crucial socio-economic factors or cultural nuances impacting learning.\n",
    "\n",
    "**Mitigation Strategies:**\n",
    "* **Diverse Data Collection:** Actively seek data from various remote regions and ensure representation across all relevant demographics (age, literacy levels, disability, etc.).\n",
    "* **Fairness Metrics:** Implement fairness metrics during model evaluation to ensure performance is equitable across different demographic groups.\n",
    "* **Interpretable Models:** Use interpretable models (like Decision Trees) to understand *why* certain recommendations are made, allowing for human oversight and adjustment.\n",
    "* **Continuous Feedback Loops:** Implement mechanisms for learner feedback to identify and correct biases in recommendations.\n",
    "\n",
    "### Promoting Fairness and Sustainability\n",
    "* **Fairness:** The personalized approach aims to promote fairness by tailoring education to individual needs, preventing a one-size-all approach that often disadvantages marginalized groups. By recommending appropriate learning paths, we ensure learners are neither overwhelmed nor undertaught.\n",
    "* **Accessibility First:** The design prioritizes low-bandwidth solutions, offline capabilities (if applicable), and multiple content formats (audio, visual, simplified text) to ensure access for women with limited connectivity or literacy.\n",
    "* **Empowerment Focus:** The ultimate goal is not just skill acquisition but economic and social empowerment. The recommended paths should lead to tangible opportunities for women in digital business or other beneficial digital engagements.\n",
    "* **Community Integration:** Encourage community-based learning hubs or local facilitators who can supplement the AI-driven training with human support and context-specific guidance, ensuring sustainability beyond technology."
   ]
  },
  {
   "cell_type": "markdown",
   "id": "6e2c467f",
   "metadata": {},
   "source": [
    "# AI for Digital Inclusion: Bridging the Gender Divide (SDG 5)\n",
    "\n",
    "## Project Overview\n",
    "This project aims to demonstrate how AI, specifically machine learning, can be used to promote digital inclusion for women in remote areas. We focus on creating an adaptive learning system that personalizes digital skills training, addressing the digital gender divide.\n",
    "\n",
    "## UN Sustainable Development Goal (SDG)\n",
    "**SDG 5: Gender Equality**\n",
    "Specifically, this project targets **SDG Target 5.b**: \"Enhance the use of enabling technology, in particular information and communications technology, to promote the empowerment of women.\"\n",
    "\n",
    "## The Problem\n",
    "Women in remote areas often face significant barriers to acquiring digital skills, including limited access to infrastructure, devices, and suitable training materials. Traditional training methods may not cater to diverse learning needs, literacy levels, or cultural contexts, perpetuating the digital gender divide.\n",
    "\n",
    "## The Solution\n",
    "We propose an AI-powered adaptive learning platform that provides personalized digital skills training. This system will leverage supervised machine learning to recommend tailored learning paths based on individual learner profiles and progress, and conceptually use NLP for accessible content and chatbot support."
   ]
  },
  {
   "cell_type": "code",
   "execution_count": 26,
   "id": "b333273a",
   "metadata": {},
   "outputs": [
    {
     "name": "stdout",
     "output_type": "stream",
     "text": [
      "Libraries imported successfully!\n"
     ]
    }
   ],
   "source": [
    "import pandas as pd\n",
    "import numpy as np\n",
    "from sklearn.model_selection import train_test_split\n",
    "from sklearn.tree import DecisionTreeClassifier # A simple, interpretable model\n",
    "from sklearn.metrics import accuracy_score, classification_report, confusion_matrix # Added confusion_matrix\n",
    "import matplotlib.pyplot as plt\n",
    "import seaborn as sns\n",
    "\n",
    "print(\"Libraries imported successfully!\")"
   ]
  },
  {
   "cell_type": "code",
   "execution_count": 27,
   "id": "f0909dcd",
   "metadata": {},
   "outputs": [
    {
     "name": "stdout",
     "output_type": "stream",
     "text": [
      "Simulated Dataset Head:\n",
      "   initial_literacy  smartphone_access  internet_connectivity  \\\n",
      "0                 6                  1                      1   \n",
      "1                 3                  1                      1   \n",
      "2                10                  1                      2   \n",
      "3                 7                  1                      2   \n",
      "4                 4                  1                      2   \n",
      "\n",
      "   learning_preference  age_group  recommended_path  \n",
      "0                    2          1                 1  \n",
      "1                    0          1                 2  \n",
      "2                    0          2                 2  \n",
      "3                    0          2                 2  \n",
      "4                    0          1                 1  \n",
      "\n",
      "Dataset Info:\n",
      "<class 'pandas.core.frame.DataFrame'>\n",
      "RangeIndex: 1000 entries, 0 to 999\n",
      "Data columns (total 6 columns):\n",
      " #   Column                 Non-Null Count  Dtype\n",
      "---  ------                 --------------  -----\n",
      " 0   initial_literacy       1000 non-null   int32\n",
      " 1   smartphone_access      1000 non-null   int64\n",
      " 2   internet_connectivity  1000 non-null   int64\n",
      " 3   learning_preference    1000 non-null   int64\n",
      " 4   age_group              1000 non-null   int64\n",
      " 5   recommended_path       1000 non-null   int64\n",
      "dtypes: int32(1), int64(5)\n",
      "memory usage: 43.1 KB\n",
      "\n",
      "Value Counts for Recommended Path:\n",
      "recommended_path\n",
      "2    738\n",
      "1    193\n",
      "0     69\n",
      "Name: count, dtype: int64\n"
     ]
    }
   ],
   "source": [
    "# Set a seed for reproducibility\n",
    "np.random.seed(42)\n",
    "\n",
    "# Number of simulated learners\n",
    "num_learners = 1000\n",
    "\n",
    "# Simulate features:\n",
    "# Initial Digital Literacy (0-10, 0=low, 10=high)\n",
    "initial_literacy = np.random.randint(0, 11, num_learners)\n",
    "\n",
    "# Access to Smartphone (0=No, 1=Yes)\n",
    "smartphone_access = np.random.choice([0, 1], num_learners, p=[0.3, 0.7]) # 70% have smartphone\n",
    "\n",
    "# Internet Connectivity (0=Poor, 1=Moderate, 2=Good)\n",
    "internet_connectivity = np.random.choice([0, 1, 2], num_learners, p=[0.2, 0.5, 0.3])\n",
    "\n",
    "# Learning Preference (0=Visual, 1=Text-based, 2=Interactive)\n",
    "learning_preference = np.random.choice([0, 1, 2], num_learners, p=[0.4, 0.3, 0.3])\n",
    "\n",
    "# Age Group (0=<25, 1=25-45, 2=>45)\n",
    "age_group = np.random.choice([0, 1, 2], num_learners, p=[0.3, 0.5, 0.2])\n",
    "\n",
    "# Target Variable: Recommended Learning Path (0=Basic Literacy, 1=Productivity Tools, 2=Digital Marketing Basics)\n",
    "# This is where our 'supervised' part comes in. We'll simulate a 'ground truth' based on features.\n",
    "# A simpler learner might get 'Basic Literacy', an intermediate 'Productivity Tools', etc.\n",
    "recommended_path = []\n",
    "for i in range(num_learners):\n",
    "    if initial_literacy[i] < 4 and internet_connectivity[i] < 1: # Low literacy AND poor internet -> Basic Literacy\n",
    "        recommended_path.append(0) # Basic Literacy (e.g., how to use a smartphone, basic internet concepts)\n",
    "    elif initial_literacy[i] >= 4 and initial_literacy[i] < 7 and smartphone_access[i] == 1: # Moderate literacy & has smartphone -> Productivity Tools\n",
    "        recommended_path.append(1) # Productivity Tools (e.g., mobile apps for finance, communication)\n",
    "    else: # Higher literacy or other conditions -> Digital Marketing Basics\n",
    "        recommended_path.append(2) # Digital Marketing Basics (e.g., using social media for business, online selling)\n",
    "\n",
    "# Convert to DataFrame\n",
    "data = pd.DataFrame({\n",
    "    'initial_literacy': initial_literacy,\n",
    "    'smartphone_access': smartphone_access,\n",
    "    'internet_connectivity': internet_connectivity,\n",
    "    'learning_preference': learning_preference,\n",
    "    'age_group': age_group,\n",
    "    'recommended_path': recommended_path\n",
    "})\n",
    "\n",
    "print(\"Simulated Dataset Head:\")\n",
    "print(data.head())\n",
    "print(\"\\nDataset Info:\")\n",
    "data.info()\n",
    "print(\"\\nValue Counts for Recommended Path:\")\n",
    "print(data['recommended_path'].value_counts())"
   ]
  },
  {
   "cell_type": "code",
   "execution_count": 28,
   "id": "d891db3b",
   "metadata": {},
   "outputs": [
    {
     "name": "stdout",
     "output_type": "stream",
     "text": [
      "X_train shape: (800, 5)\n",
      "X_test shape: (200, 5)\n",
      "y_train value counts:\n",
      "recommended_path\n",
      "2    590\n",
      "1    155\n",
      "0     55\n",
      "Name: count, dtype: int64\n",
      "y_test value counts:\n",
      "recommended_path\n",
      "2    148\n",
      "1     38\n",
      "0     14\n",
      "Name: count, dtype: int64\n"
     ]
    }
   ],
   "source": [
    "# Define features (X) and target (y)\n",
    "X = data[['initial_literacy', 'smartphone_access', 'internet_connectivity', 'learning_preference', 'age_group']]\n",
    "y = data['recommended_path']\n",
    "\n",
    "# Split data into training and testing sets\n",
    "# We'll use 80% for training and 20% for testing\n",
    "# stratify=y ensures that the proportions of the different learning paths are similar in both train and test sets\n",
    "X_train, X_test, y_train, y_test = train_test_split(X, y, test_size=0.2, random_state=42, stratify=y)\n",
    "\n",
    "print(f\"X_train shape: {X_train.shape}\")\n",
    "print(f\"X_test shape: {X_test.shape}\")\n",
    "print(f\"y_train value counts:\\n{y_train.value_counts()}\")\n",
    "print(f\"y_test value counts:\\n{y_test.value_counts()}\")"
   ]
  },
  {
   "cell_type": "code",
   "execution_count": 29,
   "id": "472a2d37",
   "metadata": {},
   "outputs": [
    {
     "name": "stdout",
     "output_type": "stream",
     "text": [
      "Training the model...\n",
      "Model training complete!\n"
     ]
    }
   ],
   "source": [
    "# Initialize the Decision Tree Classifier model\n",
    "model = DecisionTreeClassifier(random_state=42)\n",
    "\n",
    "# Train the model using the training data\n",
    "print(\"Training the model...\")\n",
    "model.fit(X_train, y_train)\n",
    "print(\"Model training complete!\")"
   ]
  },
  {
   "cell_type": "code",
   "execution_count": 30,
   "id": "c57bbc9c",
   "metadata": {},
   "outputs": [
    {
     "name": "stdout",
     "output_type": "stream",
     "text": [
      "\n",
      "Model Accuracy: 1.00"
     ]
    },
    {
     "name": "stdout",
     "output_type": "stream",
     "text": [
      "\n",
      "\n",
      "Classification Report:\n",
      "                          precision    recall  f1-score   support\n",
      "\n",
      "          Basic Literacy       1.00      1.00      1.00        14\n",
      "      Productivity Tools       1.00      1.00      1.00        38\n",
      "Digital Marketing Basics       1.00      1.00      1.00       148\n",
      "\n",
      "                accuracy                           1.00       200\n",
      "               macro avg       1.00      1.00      1.00       200\n",
      "            weighted avg       1.00      1.00      1.00       200\n",
      "\n"
     ]
    },
    {
     "data": {
      "image/png": "[encoded data removed]",
      "text/plain": [
       "<Figure size 800x600 with 1 Axes>"
      ]
     },
     "metadata": {},
     "output_type": "display_data"
    }
   ],
   "source": [
    "# Make predictions on the test set\n",
    "y_pred = model.predict(X_test)\n",
    "\n",
    "# Define target names for better readability in the report and plot\n",
    "target_names = ['Basic Literacy', 'Productivity Tools', 'Digital Marketing Basics']\n",
    "\n",
    "# Evaluate the model's performance\n",
    "accuracy = accuracy_score(y_test, y_pred)\n",
    "report = classification_report(y_test, y_pred, target_names=target_names)\n",
    "\n",
    "print(f\"\\nModel Accuracy: {accuracy:.2f}\")\n",
    "print(\"\\nClassification Report:\")\n",
    "print(report)\n",
    "\n",
    "# Quick visualization of actual vs predicted (Confusion Matrix)\n",
    "plt.figure(figsize=(8, 6))\n",
    "# Create a DataFrame for the confusion matrix with proper labels\n",
    "cm_df = pd.DataFrame(confusion_matrix(y_test, y_pred), index=target_names, columns=target_names)\n",
    "sns.heatmap(cm_df, annot=True, fmt='d', cmap='Blues', cbar=False) # cbar=False makes it cleaner for simple cases\n",
    "plt.title('Confusion Matrix: Actual vs. Predicted Learning Paths')\n",
    "plt.xlabel('Predicted Path')\n",
    "plt.ylabel('Actual Path')\n",
    "plt.show()"
   ]
  },
  {
   "cell_type": "markdown",
   "id": "f573db56",
   "metadata": {},
   "source": [
    "## Ethical Reflection\n",
    "\n",
    "### Bias in Data\n",
    "Our simulated dataset aims to represent various learner characteristics but is a simplification of real-world complexities. In a real-world scenario, bias could arise from:\n",
    "* **Sampling Bias:** If data is collected only from certain regions or demographics, the model might not generalize well to truly remote or marginalized populations.\n",
    "* **Historical Bias:** If past training program data reflects existing inequalities (e.g., fewer resources for women in certain areas), the model could inadvertently perpetuate these disparities by recommending less advanced paths to certain groups.\n",
    "* **Feature Bias:** Features might not capture crucial socio-economic factors or cultural nuances impacting learning.\n",
    "\n",
    "**Mitigation Strategies:**\n",
    "* **Diverse Data Collection:** Actively seek data from various remote regions and ensure representation across all relevant demographics (age, literacy levels, disability, etc.).\n",
    "* **Fairness Metrics:** Implement fairness metrics during model evaluation to ensure performance is equitable across different demographic groups.\n",
    "* **Interpretable Models:** Use interpretable models (like Decision Trees) to understand *why* certain recommendations are made, allowing for human oversight and adjustment.\n",
    "* **Continuous Feedback Loops:** Implement mechanisms for learner feedback to identify and correct biases in recommendations.\n",
    "\n",
    "### Promoting Fairness and Sustainability\n",
    "* **Fairness:** The personalized approach aims to promote fairness by tailoring education to individual needs, preventing a one-size-all approach that often disadvantages marginalized groups. By recommending appropriate learning paths, we ensure learners are neither overwhelmed nor undertaught.\n",
    "* **Accessibility First:** The design prioritizes low-bandwidth solutions, offline capabilities (if applicable), and multiple content formats (audio, visual, simplified text) to ensure access for women with limited connectivity or literacy.\n",
    "* **Empowerment Focus:** The ultimate goal is not just skill acquisition but economic and social empowerment. The recommended paths should lead to tangible opportunities for women in digital business or other beneficial digital engagements.\n",
    "* **Community Integration:** Encourage community-based learning hubs or local facilitators who can supplement the AI-driven training with human support and context-specific guidance, ensuring sustainability beyond technology."
   ]
  },
  {
   "cell_type": "markdown",
   "id": "045570b1",
   "metadata": {},
   "source": []
  }
 ],
 "metadata": {
  "kernelspec": {
   "display_name": "venv",
   "language": "python",
   "name": "python3"
  },
  "language_info": {
   "codemirror_mode": {
    "name": "ipython",
    "version": 3
   },
   "file_extension": ".py",
   "mimetype": "text/x-python",
   "name": "python",
   "nbconvert_exporter": "python",
   "pygments_lexer": "ipython3",
   "version": "3.11.8"
  }
 },
 "nbformat": 4,
 "nbformat_minor": 5
}
